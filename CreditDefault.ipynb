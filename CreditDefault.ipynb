{
  "nbformat": 4,
  "nbformat_minor": 0,
  "metadata": {
    "colab": {
      "name": "CreditDefault.ipynb",
      "provenance": [],
      "include_colab_link": true
    },
    "kernelspec": {
      "name": "python3",
      "display_name": "Python 3"
    },
    "language_info": {
      "name": "python"
    },
    "accelerator": "GPU"
  },
  "cells": [
    {
      "cell_type": "markdown",
      "metadata": {
        "id": "view-in-github",
        "colab_type": "text"
      },
      "source": [
        "<a href=\"https://colab.research.google.com/github/abhinav-sharma-6167/Advanced-ML/blob/main/CreditDefault.ipynb\" target=\"_parent\"><img src=\"https://colab.research.google.com/assets/colab-badge.svg\" alt=\"Open In Colab\"/></a>"
      ]
    },
    {
      "cell_type": "code",
      "metadata": {
        "id": "tFdMRkf131Pb"
      },
      "source": [
        "import tensorflow as tf\n",
        "from tensorflow import keras\n",
        "from tensorflow.keras import layers\n",
        "import tensorflow_datasets as tfds\n",
        "\n",
        "import pandas as pd\n",
        "import numpy as np"
      ],
      "execution_count": null,
      "outputs": []
    },
    {
      "cell_type": "code",
      "metadata": {
        "id": "JM8tAMvv4oZG"
      },
      "source": [
        "df = pd.read_csv('creditdata.csv')"
      ],
      "execution_count": null,
      "outputs": []
    },
    {
      "cell_type": "code",
      "metadata": {
        "colab": {
          "base_uri": "https://localhost:8080/",
          "height": 278
        },
        "id": "NvujlHGS6KjP",
        "outputId": "6da0d4bc-b241-421d-c902-5b62f26d72c4"
      },
      "source": [
        "df.head()\n",
        "\n",
        "df.loc[:,'EDUCATION'] = df.loc[:,'EDUCATION'].replace(0,5)\n",
        "df.loc[:,'EDUCATION'] = df.loc[:,'EDUCATION'].replace(6,5)\n",
        "df['AgeBin'] = pd.cut(df['AGE'],[20, 25, 30, 35, 40, 50, 60, 80])\n",
        "\n",
        "df['LimitBin'] = pd.cut(df['LIMIT_BAL'],[5000, 50000, 100000, 150000, 200000, 300000, 400000, 500000, 1100000])\n",
        "\n",
        "\n",
        "df['PAY_1_new'] = df['PAY_1'].copy()\n",
        "df['PAY_2_new'] = df['PAY_2'].copy()\n",
        "df['PAY_3_new'] = df['PAY_3'].copy()\n",
        "df['PAY_4_new'] = df['PAY_4'].copy()\n",
        "df['PAY_5_new'] = df['PAY_5'].copy()\n",
        "df['PAY_6_new'] = df['PAY_6'].copy()\n",
        "\n",
        "pay_x_new = ['PAY_1_new', 'PAY_2_new', 'PAY_3_new', 'PAY_4_new', 'PAY_5_new', 'PAY_6_new']\n",
        "\n",
        "for col in pay_x_new:  \n",
        "    df.loc[:,col] = df.loc[:,col].replace(5,4)\n",
        "    df.loc[:,col] = df.loc[:,col].replace(6,4)\n",
        "    df.loc[:,col] = df.loc[:,col].replace(7,4)\n",
        "    df.loc[:,col] = df.loc[:,col].replace(8,4)\n",
        "\n",
        "df['BILL_AMT1_bin'] = df['BILL_AMT1'].copy()\n",
        "df['BILL_AMT2_bin'] = df['BILL_AMT2'].copy()\n",
        "df['BILL_AMT3_bin'] = df['BILL_AMT3'].copy()\n",
        "df['BILL_AMT4_bin'] = df['BILL_AMT4'].copy()\n",
        "df['BILL_AMT5_bin'] = df['BILL_AMT5'].copy()\n",
        "df['BILL_AMT6_bin'] = df['BILL_AMT6'].copy()\n",
        "\n",
        "bill_amtx_bins = ['BILL_AMT1_bin', 'BILL_AMT2_bin', 'BILL_AMT3_bin', 'BILL_AMT4_bin', 'BILL_AMT5_bin', 'BILL_AMT6_bin']\n",
        "\n",
        "for i, col in enumerate (bill_amtx_bins):\n",
        "    df[col] = pd.cut(df[bill_amtx_fts[i]],[-350000,-1,0,25000, 75000, 200000, 2000000])\n",
        "    print(df[col].value_counts())\n",
        "\n",
        "df['PAY_AMT1_bin'] = df['PAY_AMT1'].copy()\n",
        "df['PAY_AMT2_bin'] = df['PAY_AMT2'].copy()\n",
        "df['PAY_AMT3_bin'] = df['PAY_AMT3'].copy()\n",
        "df['PAY_AMT4_bin'] = df['PAY_AMT4'].copy()\n",
        "df['PAY_AMT5_bin'] = df['PAY_AMT5'].copy()\n",
        "df['PAY_AMT6_bin'] = df['PAY_AMT6'].copy()\n",
        "\n",
        "pay_amtx_bins = ['PAY_AMT1_bin', 'PAY_AMT2_bin', 'PAY_AMT3_bin', 'PAY_AMT4_bin', 'PAY_AMT5_bin', 'PAY_AMT6_bin']\n",
        "\n",
        "for i, col in enumerate (pay_amtx_bins):\n",
        "    df[col] = pd.cut(df[pay_amtx_fts[i]],[-1, 0, 25000, 50000, 100000, 2000000])\n",
        "    print(df[col].value_counts())"
      ],
      "execution_count": null,
      "outputs": [
        {
          "output_type": "execute_result",
          "data": {
            "text/html": [
              "<div>\n",
              "<style scoped>\n",
              "    .dataframe tbody tr th:only-of-type {\n",
              "        vertical-align: middle;\n",
              "    }\n",
              "\n",
              "    .dataframe tbody tr th {\n",
              "        vertical-align: top;\n",
              "    }\n",
              "\n",
              "    .dataframe thead th {\n",
              "        text-align: right;\n",
              "    }\n",
              "</style>\n",
              "<table border=\"1\" class=\"dataframe\">\n",
              "  <thead>\n",
              "    <tr style=\"text-align: right;\">\n",
              "      <th></th>\n",
              "      <th>ID</th>\n",
              "      <th>LIMIT_BAL</th>\n",
              "      <th>SEX</th>\n",
              "      <th>EDUCATION</th>\n",
              "      <th>MARRIAGE</th>\n",
              "      <th>AGE</th>\n",
              "      <th>PAY_0</th>\n",
              "      <th>PAY_2</th>\n",
              "      <th>PAY_3</th>\n",
              "      <th>PAY_4</th>\n",
              "      <th>PAY_5</th>\n",
              "      <th>PAY_6</th>\n",
              "      <th>BILL_AMT1</th>\n",
              "      <th>BILL_AMT2</th>\n",
              "      <th>BILL_AMT3</th>\n",
              "      <th>BILL_AMT4</th>\n",
              "      <th>BILL_AMT5</th>\n",
              "      <th>BILL_AMT6</th>\n",
              "      <th>PAY_AMT1</th>\n",
              "      <th>PAY_AMT2</th>\n",
              "      <th>PAY_AMT3</th>\n",
              "      <th>PAY_AMT4</th>\n",
              "      <th>PAY_AMT5</th>\n",
              "      <th>PAY_AMT6</th>\n",
              "      <th>default payment next month</th>\n",
              "    </tr>\n",
              "  </thead>\n",
              "  <tbody>\n",
              "    <tr>\n",
              "      <th>0</th>\n",
              "      <td>1</td>\n",
              "      <td>20000</td>\n",
              "      <td>2</td>\n",
              "      <td>2</td>\n",
              "      <td>1</td>\n",
              "      <td>24</td>\n",
              "      <td>2</td>\n",
              "      <td>2</td>\n",
              "      <td>-1</td>\n",
              "      <td>-1</td>\n",
              "      <td>-2</td>\n",
              "      <td>-2</td>\n",
              "      <td>3913</td>\n",
              "      <td>3102</td>\n",
              "      <td>689</td>\n",
              "      <td>0</td>\n",
              "      <td>0</td>\n",
              "      <td>0</td>\n",
              "      <td>0</td>\n",
              "      <td>689</td>\n",
              "      <td>0</td>\n",
              "      <td>0</td>\n",
              "      <td>0</td>\n",
              "      <td>0</td>\n",
              "      <td>1</td>\n",
              "    </tr>\n",
              "    <tr>\n",
              "      <th>1</th>\n",
              "      <td>2</td>\n",
              "      <td>120000</td>\n",
              "      <td>2</td>\n",
              "      <td>2</td>\n",
              "      <td>2</td>\n",
              "      <td>26</td>\n",
              "      <td>-1</td>\n",
              "      <td>2</td>\n",
              "      <td>0</td>\n",
              "      <td>0</td>\n",
              "      <td>0</td>\n",
              "      <td>2</td>\n",
              "      <td>2682</td>\n",
              "      <td>1725</td>\n",
              "      <td>2682</td>\n",
              "      <td>3272</td>\n",
              "      <td>3455</td>\n",
              "      <td>3261</td>\n",
              "      <td>0</td>\n",
              "      <td>1000</td>\n",
              "      <td>1000</td>\n",
              "      <td>1000</td>\n",
              "      <td>0</td>\n",
              "      <td>2000</td>\n",
              "      <td>1</td>\n",
              "    </tr>\n",
              "    <tr>\n",
              "      <th>2</th>\n",
              "      <td>3</td>\n",
              "      <td>90000</td>\n",
              "      <td>2</td>\n",
              "      <td>2</td>\n",
              "      <td>2</td>\n",
              "      <td>34</td>\n",
              "      <td>0</td>\n",
              "      <td>0</td>\n",
              "      <td>0</td>\n",
              "      <td>0</td>\n",
              "      <td>0</td>\n",
              "      <td>0</td>\n",
              "      <td>29239</td>\n",
              "      <td>14027</td>\n",
              "      <td>13559</td>\n",
              "      <td>14331</td>\n",
              "      <td>14948</td>\n",
              "      <td>15549</td>\n",
              "      <td>1518</td>\n",
              "      <td>1500</td>\n",
              "      <td>1000</td>\n",
              "      <td>1000</td>\n",
              "      <td>1000</td>\n",
              "      <td>5000</td>\n",
              "      <td>0</td>\n",
              "    </tr>\n",
              "    <tr>\n",
              "      <th>3</th>\n",
              "      <td>4</td>\n",
              "      <td>50000</td>\n",
              "      <td>2</td>\n",
              "      <td>2</td>\n",
              "      <td>1</td>\n",
              "      <td>37</td>\n",
              "      <td>0</td>\n",
              "      <td>0</td>\n",
              "      <td>0</td>\n",
              "      <td>0</td>\n",
              "      <td>0</td>\n",
              "      <td>0</td>\n",
              "      <td>46990</td>\n",
              "      <td>48233</td>\n",
              "      <td>49291</td>\n",
              "      <td>28314</td>\n",
              "      <td>28959</td>\n",
              "      <td>29547</td>\n",
              "      <td>2000</td>\n",
              "      <td>2019</td>\n",
              "      <td>1200</td>\n",
              "      <td>1100</td>\n",
              "      <td>1069</td>\n",
              "      <td>1000</td>\n",
              "      <td>0</td>\n",
              "    </tr>\n",
              "    <tr>\n",
              "      <th>4</th>\n",
              "      <td>5</td>\n",
              "      <td>50000</td>\n",
              "      <td>1</td>\n",
              "      <td>2</td>\n",
              "      <td>1</td>\n",
              "      <td>57</td>\n",
              "      <td>-1</td>\n",
              "      <td>0</td>\n",
              "      <td>-1</td>\n",
              "      <td>0</td>\n",
              "      <td>0</td>\n",
              "      <td>0</td>\n",
              "      <td>8617</td>\n",
              "      <td>5670</td>\n",
              "      <td>35835</td>\n",
              "      <td>20940</td>\n",
              "      <td>19146</td>\n",
              "      <td>19131</td>\n",
              "      <td>2000</td>\n",
              "      <td>36681</td>\n",
              "      <td>10000</td>\n",
              "      <td>9000</td>\n",
              "      <td>689</td>\n",
              "      <td>679</td>\n",
              "      <td>0</td>\n",
              "    </tr>\n",
              "  </tbody>\n",
              "</table>\n",
              "</div>"
            ],
            "text/plain": [
              "   ID  LIMIT_BAL  SEX  ...  PAY_AMT5  PAY_AMT6  default payment next month\n",
              "0   1      20000    2  ...         0         0                           1\n",
              "1   2     120000    2  ...         0      2000                           1\n",
              "2   3      90000    2  ...      1000      5000                           0\n",
              "3   4      50000    2  ...      1069      1000                           0\n",
              "4   5      50000    1  ...       689       679                           0\n",
              "\n",
              "[5 rows x 25 columns]"
            ]
          },
          "metadata": {},
          "execution_count": 4
        }
      ]
    },
    {
      "cell_type": "code",
      "metadata": {
        "id": "AG0OW4WY8A5l"
      },
      "source": [
        "from sklearn.model_selection import train_test_split\n",
        "\n",
        "X_train, X_test, y_train, y_test = train_test_split(df.drop(['default payment next month','ID'],axis=1),df['default payment next month'],test_size = 0.33)"
      ],
      "execution_count": null,
      "outputs": []
    },
    {
      "cell_type": "code",
      "metadata": {
        "colab": {
          "base_uri": "https://localhost:8080/",
          "height": 226
        },
        "id": "MmE7Yc1I8GdO",
        "outputId": "682faddf-35ea-4c3f-fd43-b6d9bf461efc"
      },
      "source": [
        "X_train.head()"
      ],
      "execution_count": null,
      "outputs": [
        {
          "output_type": "execute_result",
          "data": {
            "text/html": [
              "<div>\n",
              "<style scoped>\n",
              "    .dataframe tbody tr th:only-of-type {\n",
              "        vertical-align: middle;\n",
              "    }\n",
              "\n",
              "    .dataframe tbody tr th {\n",
              "        vertical-align: top;\n",
              "    }\n",
              "\n",
              "    .dataframe thead th {\n",
              "        text-align: right;\n",
              "    }\n",
              "</style>\n",
              "<table border=\"1\" class=\"dataframe\">\n",
              "  <thead>\n",
              "    <tr style=\"text-align: right;\">\n",
              "      <th></th>\n",
              "      <th>LIMIT_BAL</th>\n",
              "      <th>SEX</th>\n",
              "      <th>EDUCATION</th>\n",
              "      <th>MARRIAGE</th>\n",
              "      <th>AGE</th>\n",
              "      <th>PAY_0</th>\n",
              "      <th>PAY_2</th>\n",
              "      <th>PAY_3</th>\n",
              "      <th>PAY_4</th>\n",
              "      <th>PAY_5</th>\n",
              "      <th>PAY_6</th>\n",
              "      <th>BILL_AMT1</th>\n",
              "      <th>BILL_AMT2</th>\n",
              "      <th>BILL_AMT3</th>\n",
              "      <th>BILL_AMT4</th>\n",
              "      <th>BILL_AMT5</th>\n",
              "      <th>BILL_AMT6</th>\n",
              "      <th>PAY_AMT1</th>\n",
              "      <th>PAY_AMT2</th>\n",
              "      <th>PAY_AMT3</th>\n",
              "      <th>PAY_AMT4</th>\n",
              "      <th>PAY_AMT5</th>\n",
              "      <th>PAY_AMT6</th>\n",
              "    </tr>\n",
              "  </thead>\n",
              "  <tbody>\n",
              "    <tr>\n",
              "      <th>23879</th>\n",
              "      <td>360000</td>\n",
              "      <td>1</td>\n",
              "      <td>1</td>\n",
              "      <td>2</td>\n",
              "      <td>27</td>\n",
              "      <td>-2</td>\n",
              "      <td>-2</td>\n",
              "      <td>-2</td>\n",
              "      <td>-2</td>\n",
              "      <td>-2</td>\n",
              "      <td>-2</td>\n",
              "      <td>2807</td>\n",
              "      <td>894</td>\n",
              "      <td>5939</td>\n",
              "      <td>1390</td>\n",
              "      <td>-5</td>\n",
              "      <td>-5</td>\n",
              "      <td>898</td>\n",
              "      <td>5970</td>\n",
              "      <td>1396</td>\n",
              "      <td>0</td>\n",
              "      <td>0</td>\n",
              "      <td>0</td>\n",
              "    </tr>\n",
              "    <tr>\n",
              "      <th>6478</th>\n",
              "      <td>50000</td>\n",
              "      <td>1</td>\n",
              "      <td>3</td>\n",
              "      <td>2</td>\n",
              "      <td>29</td>\n",
              "      <td>0</td>\n",
              "      <td>0</td>\n",
              "      <td>2</td>\n",
              "      <td>0</td>\n",
              "      <td>0</td>\n",
              "      <td>-1</td>\n",
              "      <td>7334</td>\n",
              "      <td>7344</td>\n",
              "      <td>5420</td>\n",
              "      <td>4104</td>\n",
              "      <td>1596</td>\n",
              "      <td>1594</td>\n",
              "      <td>2500</td>\n",
              "      <td>0</td>\n",
              "      <td>1596</td>\n",
              "      <td>0</td>\n",
              "      <td>1594</td>\n",
              "      <td>0</td>\n",
              "    </tr>\n",
              "    <tr>\n",
              "      <th>2842</th>\n",
              "      <td>110000</td>\n",
              "      <td>2</td>\n",
              "      <td>2</td>\n",
              "      <td>1</td>\n",
              "      <td>51</td>\n",
              "      <td>0</td>\n",
              "      <td>0</td>\n",
              "      <td>0</td>\n",
              "      <td>2</td>\n",
              "      <td>2</td>\n",
              "      <td>2</td>\n",
              "      <td>10141</td>\n",
              "      <td>11472</td>\n",
              "      <td>12973</td>\n",
              "      <td>12468</td>\n",
              "      <td>13763</td>\n",
              "      <td>13989</td>\n",
              "      <td>1500</td>\n",
              "      <td>2000</td>\n",
              "      <td>0</td>\n",
              "      <td>1500</td>\n",
              "      <td>600</td>\n",
              "      <td>0</td>\n",
              "    </tr>\n",
              "    <tr>\n",
              "      <th>4115</th>\n",
              "      <td>180000</td>\n",
              "      <td>2</td>\n",
              "      <td>1</td>\n",
              "      <td>1</td>\n",
              "      <td>43</td>\n",
              "      <td>-1</td>\n",
              "      <td>-1</td>\n",
              "      <td>-1</td>\n",
              "      <td>0</td>\n",
              "      <td>-1</td>\n",
              "      <td>-1</td>\n",
              "      <td>36484</td>\n",
              "      <td>24049</td>\n",
              "      <td>89271</td>\n",
              "      <td>1946</td>\n",
              "      <td>11859</td>\n",
              "      <td>506</td>\n",
              "      <td>24049</td>\n",
              "      <td>91272</td>\n",
              "      <td>162</td>\n",
              "      <td>11859</td>\n",
              "      <td>506</td>\n",
              "      <td>1304</td>\n",
              "    </tr>\n",
              "    <tr>\n",
              "      <th>6655</th>\n",
              "      <td>500000</td>\n",
              "      <td>1</td>\n",
              "      <td>2</td>\n",
              "      <td>1</td>\n",
              "      <td>58</td>\n",
              "      <td>-1</td>\n",
              "      <td>-1</td>\n",
              "      <td>-1</td>\n",
              "      <td>-1</td>\n",
              "      <td>-1</td>\n",
              "      <td>-1</td>\n",
              "      <td>4101</td>\n",
              "      <td>11076</td>\n",
              "      <td>3834</td>\n",
              "      <td>-754</td>\n",
              "      <td>6276</td>\n",
              "      <td>16871</td>\n",
              "      <td>11155</td>\n",
              "      <td>4024</td>\n",
              "      <td>754</td>\n",
              "      <td>7030</td>\n",
              "      <td>17050</td>\n",
              "      <td>6063</td>\n",
              "    </tr>\n",
              "  </tbody>\n",
              "</table>\n",
              "</div>"
            ],
            "text/plain": [
              "       LIMIT_BAL  SEX  EDUCATION  ...  PAY_AMT4  PAY_AMT5  PAY_AMT6\n",
              "23879     360000    1          1  ...         0         0         0\n",
              "6478       50000    1          3  ...         0      1594         0\n",
              "2842      110000    2          2  ...      1500       600         0\n",
              "4115      180000    2          1  ...     11859       506      1304\n",
              "6655      500000    1          2  ...      7030     17050      6063\n",
              "\n",
              "[5 rows x 23 columns]"
            ]
          },
          "metadata": {},
          "execution_count": 6
        }
      ]
    },
    {
      "cell_type": "code",
      "metadata": {
        "colab": {
          "base_uri": "https://localhost:8080/"
        },
        "id": "98rT1ZF98Ucu",
        "outputId": "a1b36ae1-a621-48b9-f6f7-3dc6c0c842cb"
      },
      "source": [
        "import tensorflow as tf\n",
        "from tensorflow import keras\n",
        "from tensorflow.keras import layers\n",
        "\n",
        "model = keras.Sequential(\n",
        "    [\n",
        "        keras.Input(shape=(23)),\n",
        "        layers.Dense(5000, activation=\"relu\"),\n",
        "        layers.Dense(5000, activation=\"relu\"),\n",
        "        layers.Dense(2500, activation=\"relu\"),\n",
        "        layers.Dense(1500, activation=\"relu\"),\n",
        "        layers.Dense(1000, activation=\"relu\"),\n",
        "        layers.Dense(500, activation=\"relu\"),\n",
        "        layers.Dense(1),\n",
        "    ]\n",
        ")\n",
        "\n",
        "model.summary()"
      ],
      "execution_count": null,
      "outputs": [
        {
          "output_type": "stream",
          "name": "stdout",
          "text": [
            "Model: \"sequential\"\n",
            "_________________________________________________________________\n",
            " Layer (type)                Output Shape              Param #   \n",
            "=================================================================\n",
            " dense (Dense)               (None, 5000)              120000    \n",
            "                                                                 \n",
            " dense_1 (Dense)             (None, 5000)              25005000  \n",
            "                                                                 \n",
            " dense_2 (Dense)             (None, 2500)              12502500  \n",
            "                                                                 \n",
            " dense_3 (Dense)             (None, 1500)              3751500   \n",
            "                                                                 \n",
            " dense_4 (Dense)             (None, 1000)              1501000   \n",
            "                                                                 \n",
            " dense_5 (Dense)             (None, 500)               500500    \n",
            "                                                                 \n",
            " dense_6 (Dense)             (None, 1)                 501       \n",
            "                                                                 \n",
            "=================================================================\n",
            "Total params: 43,381,001\n",
            "Trainable params: 43,381,001\n",
            "Non-trainable params: 0\n",
            "_________________________________________________________________\n"
          ]
        }
      ]
    },
    {
      "cell_type": "code",
      "metadata": {
        "colab": {
          "base_uri": "https://localhost:8080/"
        },
        "id": "qBF4K8rF8Zc1",
        "outputId": "97cf9c99-0125-4118-871b-09fe8fc6a30b"
      },
      "source": [
        "import warnings\n",
        "warnings.filterwarnings('ignore')\n",
        "\n",
        "model.compile(\n",
        "    loss=tf.keras.losses.BinaryCrossentropy(from_logits=True),\n",
        "    optimizer=keras.optimizers.Adam(lr=0.0001),\n",
        "    metrics=[\"acc\"],\n",
        ")\n",
        "callback = tf.keras.callbacks.EarlyStopping(monitor='val_loss', patience=10)\n",
        "history = model.fit(X_train, y_train, epochs=100, verbose=1,validation_split=0.33,callbacks=[callback])"
      ],
      "execution_count": null,
      "outputs": [
        {
          "output_type": "stream",
          "name": "stdout",
          "text": [
            "Epoch 1/100\n",
            "421/421 [==============================] - 14s 28ms/step - loss: 112.7756 - acc: 0.6860 - val_loss: 11.3752 - val_acc: 0.3153\n",
            "Epoch 2/100\n",
            "421/421 [==============================] - 12s 28ms/step - loss: 8.8388 - acc: 0.6940 - val_loss: 8.2324 - val_acc: 0.7581\n",
            "Epoch 3/100\n",
            "421/421 [==============================] - 12s 27ms/step - loss: 3.7752 - acc: 0.7037 - val_loss: 4.6662 - val_acc: 0.7692\n",
            "Epoch 4/100\n",
            "421/421 [==============================] - 12s 28ms/step - loss: 1.7925 - acc: 0.7198 - val_loss: 1.4797 - val_acc: 0.7730\n",
            "Epoch 5/100\n",
            "421/421 [==============================] - 12s 28ms/step - loss: 2.2869 - acc: 0.7121 - val_loss: 1.4896 - val_acc: 0.7713\n",
            "Epoch 6/100\n",
            "421/421 [==============================] - 12s 28ms/step - loss: 1.5813 - acc: 0.7191 - val_loss: 0.7321 - val_acc: 0.7668\n",
            "Epoch 7/100\n",
            "421/421 [==============================] - 11s 27ms/step - loss: 2.7286 - acc: 0.7139 - val_loss: 1.7006 - val_acc: 0.7487\n",
            "Epoch 8/100\n",
            "421/421 [==============================] - 12s 28ms/step - loss: 1.6899 - acc: 0.7284 - val_loss: 2.3631 - val_acc: 0.2846\n",
            "Epoch 9/100\n",
            "421/421 [==============================] - 12s 28ms/step - loss: 0.8364 - acc: 0.7420 - val_loss: 0.7613 - val_acc: 0.7676\n",
            "Epoch 10/100\n",
            "421/421 [==============================] - 12s 27ms/step - loss: 0.6537 - acc: 0.7636 - val_loss: 0.6247 - val_acc: 0.7694\n",
            "Epoch 11/100\n",
            "421/421 [==============================] - 12s 28ms/step - loss: 0.6184 - acc: 0.7672 - val_loss: 0.6423 - val_acc: 0.7731\n",
            "Epoch 12/100\n",
            "421/421 [==============================] - 12s 28ms/step - loss: 0.5860 - acc: 0.7735 - val_loss: 0.6718 - val_acc: 0.7731\n",
            "Epoch 13/100\n",
            "421/421 [==============================] - 12s 28ms/step - loss: 0.6120 - acc: 0.7705 - val_loss: 0.6340 - val_acc: 0.7321\n",
            "Epoch 14/100\n",
            "421/421 [==============================] - 12s 28ms/step - loss: 0.6959 - acc: 0.7630 - val_loss: 0.6919 - val_acc: 0.7734\n",
            "Epoch 15/100\n",
            "421/421 [==============================] - 12s 27ms/step - loss: 0.6050 - acc: 0.7688 - val_loss: 0.8243 - val_acc: 0.7466\n",
            "Epoch 16/100\n",
            "421/421 [==============================] - 12s 28ms/step - loss: 0.6523 - acc: 0.7653 - val_loss: 0.5535 - val_acc: 0.7716\n",
            "Epoch 17/100\n",
            "421/421 [==============================] - 12s 28ms/step - loss: 0.5732 - acc: 0.7742 - val_loss: 1.0177 - val_acc: 0.5819\n",
            "Epoch 18/100\n",
            "421/421 [==============================] - 12s 28ms/step - loss: 0.5810 - acc: 0.7727 - val_loss: 0.5295 - val_acc: 0.7734\n",
            "Epoch 19/100\n",
            "421/421 [==============================] - 12s 28ms/step - loss: 0.5474 - acc: 0.7787 - val_loss: 0.6209 - val_acc: 0.7725\n",
            "Epoch 20/100\n",
            "421/421 [==============================] - 12s 28ms/step - loss: 0.5633 - acc: 0.7753 - val_loss: 0.5329 - val_acc: 0.7716\n",
            "Epoch 21/100\n",
            "421/421 [==============================] - 12s 28ms/step - loss: 0.5925 - acc: 0.7698 - val_loss: 0.5860 - val_acc: 0.7502\n",
            "Epoch 22/100\n",
            "421/421 [==============================] - 12s 28ms/step - loss: 0.5469 - acc: 0.7774 - val_loss: 0.5590 - val_acc: 0.7734\n",
            "Epoch 23/100\n",
            "421/421 [==============================] - 12s 28ms/step - loss: 0.5343 - acc: 0.7773 - val_loss: 0.5413 - val_acc: 0.7697\n",
            "Epoch 24/100\n",
            "421/421 [==============================] - 12s 28ms/step - loss: 0.6011 - acc: 0.7684 - val_loss: 0.5701 - val_acc: 0.7716\n",
            "Epoch 25/100\n",
            "421/421 [==============================] - 12s 28ms/step - loss: 0.5562 - acc: 0.7774 - val_loss: 0.5616 - val_acc: 0.7677\n",
            "Epoch 26/100\n",
            "421/421 [==============================] - 12s 28ms/step - loss: 0.5250 - acc: 0.7791 - val_loss: 0.5165 - val_acc: 0.7734\n",
            "Epoch 27/100\n",
            "421/421 [==============================] - 12s 28ms/step - loss: 0.7804 - acc: 0.7597 - val_loss: 0.5495 - val_acc: 0.7686\n",
            "Epoch 28/100\n",
            "421/421 [==============================] - 12s 28ms/step - loss: 0.6387 - acc: 0.7701 - val_loss: 0.5231 - val_acc: 0.7736\n",
            "Epoch 29/100\n",
            "421/421 [==============================] - 12s 28ms/step - loss: 0.5364 - acc: 0.7790 - val_loss: 0.5680 - val_acc: 0.7734\n",
            "Epoch 30/100\n",
            "421/421 [==============================] - 12s 28ms/step - loss: 0.8498 - acc: 0.7796 - val_loss: 0.5220 - val_acc: 0.7733\n",
            "Epoch 31/100\n",
            "421/421 [==============================] - 12s 27ms/step - loss: 0.5926 - acc: 0.7810 - val_loss: 0.9902 - val_acc: 0.7728\n",
            "Epoch 32/100\n",
            "421/421 [==============================] - 12s 28ms/step - loss: 0.6145 - acc: 0.7794 - val_loss: 0.7048 - val_acc: 0.6942\n",
            "Epoch 33/100\n",
            "421/421 [==============================] - 12s 28ms/step - loss: 1.3160 - acc: 0.7800 - val_loss: 0.5360 - val_acc: 0.7734\n",
            "Epoch 34/100\n",
            "421/421 [==============================] - 12s 28ms/step - loss: 0.5355 - acc: 0.7811 - val_loss: 0.5349 - val_acc: 0.7736\n",
            "Epoch 35/100\n",
            "421/421 [==============================] - 11s 27ms/step - loss: 0.5339 - acc: 0.7810 - val_loss: 0.5350 - val_acc: 0.7736\n",
            "Epoch 36/100\n",
            "421/421 [==============================] - 11s 27ms/step - loss: 0.5828 - acc: 0.7812 - val_loss: 0.5342 - val_acc: 0.7736\n"
          ]
        }
      ]
    },
    {
      "cell_type": "code",
      "metadata": {
        "colab": {
          "base_uri": "https://localhost:8080/",
          "height": 458
        },
        "id": "Wd0evhFd_TuC",
        "outputId": "2fdf5c2f-af40-4b8c-f69b-6ccb34e7fe0d"
      },
      "source": [
        "import matplotlib.pyplot as plt\n",
        "\n",
        "plt.rcParams[\"figure.figsize\"] = (15,7)\n",
        "plt.plot(history.history['loss'])\n",
        "plt.plot(history.history['val_loss'])\n",
        "plt.title('model accuracy')\n",
        "plt.ylabel('loss')\n",
        "plt.xlabel('epoch')\n",
        "plt.legend(['train', 'test'], loc='upper left')\n",
        "plt.show()"
      ],
      "execution_count": null,
      "outputs": [
        {
          "output_type": "display_data",
          "data": {
            "image/png": "[encoded data removed]",
            "text/plain": [
              "<Figure size 1080x504 with 1 Axes>"
            ]
          },
          "metadata": {
            "needs_background": "light"
          }
        }
      ]
    },
    {
      "cell_type": "code",
      "metadata": {
        "colab": {
          "base_uri": "https://localhost:8080/"
        },
        "id": "btruPwTkBvdx",
        "outputId": "83cc3609-77ee-4e3e-e1b2-faa1b4d2aaa6"
      },
      "source": [
        "model.evaluate(X_train,y_train,batch_size=64)"
      ],
      "execution_count": null,
      "outputs": [
        {
          "output_type": "stream",
          "name": "stdout",
          "text": [
            "315/315 [==============================] - 2s 7ms/step - loss: 0.5289 - acc: 0.7787\n"
          ]
        },
        {
          "output_type": "execute_result",
          "data": {
            "text/plain": [
              "[0.5289157032966614, 0.7786567211151123]"
            ]
          },
          "metadata": {},
          "execution_count": 10
        }
      ]
    },
    {
      "cell_type": "code",
      "metadata": {
        "colab": {
          "base_uri": "https://localhost:8080/"
        },
        "id": "3yQM_AVOAzUc",
        "outputId": "df7fd513-9723-472c-d0ab-a8eafd35742e"
      },
      "source": [
        "model.evaluate(X_test,y_test,batch_size=64)"
      ],
      "execution_count": null,
      "outputs": [
        {
          "output_type": "stream",
          "name": "stdout",
          "text": [
            "155/155 [==============================] - 1s 9ms/step - loss: 0.5275 - acc: 0.7791\n"
          ]
        },
        {
          "output_type": "execute_result",
          "data": {
            "text/plain": [
              "[0.5275251865386963, 0.7790908813476562]"
            ]
          },
          "metadata": {},
          "execution_count": 14
        }
      ]
    },
    {
      "cell_type": "code",
      "metadata": {
        "colab": {
          "base_uri": "https://localhost:8080/"
        },
        "id": "vXCDK-pmHo6P",
        "outputId": "ecb50ba3-10d6-49f4-8bad-fa4ec3a890ad"
      },
      "source": [
        "pip install shap"
      ],
      "execution_count": null,
      "outputs": [
        {
          "output_type": "stream",
          "name": "stdout",
          "text": [
            "Collecting shap\n",
            "  Downloading shap-0.40.0.tar.gz (371 kB)\n",
            "\u001b[?25l\r\u001b[K     |▉                               | 10 kB 23.1 MB/s eta 0:00:01\r\u001b[K     |█▊                              | 20 kB 12.1 MB/s eta 0:00:01\r\u001b[K     |██▋                             | 30 kB 9.5 MB/s eta 0:00:01\r\u001b[K     |███▌                            | 40 kB 8.7 MB/s eta 0:00:01\r\u001b[K     |████▍                           | 51 kB 5.3 MB/s eta 0:00:01\r\u001b[K     |█████▎                          | 61 kB 5.8 MB/s eta 0:00:01\r\u001b[K     |██████▏                         | 71 kB 5.7 MB/s eta 0:00:01\r\u001b[K     |███████                         | 81 kB 6.3 MB/s eta 0:00:01\r\u001b[K     |████████                        | 92 kB 6.3 MB/s eta 0:00:01\r\u001b[K     |████████▉                       | 102 kB 5.2 MB/s eta 0:00:01\r\u001b[K     |█████████▊                      | 112 kB 5.2 MB/s eta 0:00:01\r\u001b[K     |██████████▋                     | 122 kB 5.2 MB/s eta 0:00:01\r\u001b[K     |███████████▌                    | 133 kB 5.2 MB/s eta 0:00:01\r\u001b[K     |████████████▍                   | 143 kB 5.2 MB/s eta 0:00:01\r\u001b[K     |█████████████▎                  | 153 kB 5.2 MB/s eta 0:00:01\r\u001b[K     |██████████████                  | 163 kB 5.2 MB/s eta 0:00:01\r\u001b[K     |███████████████                 | 174 kB 5.2 MB/s eta 0:00:01\r\u001b[K     |███████████████▉                | 184 kB 5.2 MB/s eta 0:00:01\r\u001b[K     |████████████████▊               | 194 kB 5.2 MB/s eta 0:00:01\r\u001b[K     |█████████████████▋              | 204 kB 5.2 MB/s eta 0:00:01\r\u001b[K     |██████████████████▌             | 215 kB 5.2 MB/s eta 0:00:01\r\u001b[K     |███████████████████▍            | 225 kB 5.2 MB/s eta 0:00:01\r\u001b[K     |████████████████████▎           | 235 kB 5.2 MB/s eta 0:00:01\r\u001b[K     |█████████████████████▏          | 245 kB 5.2 MB/s eta 0:00:01\r\u001b[K     |██████████████████████          | 256 kB 5.2 MB/s eta 0:00:01\r\u001b[K     |███████████████████████         | 266 kB 5.2 MB/s eta 0:00:01\r\u001b[K     |███████████████████████▉        | 276 kB 5.2 MB/s eta 0:00:01\r\u001b[K     |████████████████████████▊       | 286 kB 5.2 MB/s eta 0:00:01\r\u001b[K     |█████████████████████████▋      | 296 kB 5.2 MB/s eta 0:00:01\r\u001b[K     |██████████████████████████▌     | 307 kB 5.2 MB/s eta 0:00:01\r\u001b[K     |███████████████████████████▎    | 317 kB 5.2 MB/s eta 0:00:01\r\u001b[K     |████████████████████████████▏   | 327 kB 5.2 MB/s eta 0:00:01\r\u001b[K     |█████████████████████████████   | 337 kB 5.2 MB/s eta 0:00:01\r\u001b[K     |██████████████████████████████  | 348 kB 5.2 MB/s eta 0:00:01\r\u001b[K     |██████████████████████████████▉ | 358 kB 5.2 MB/s eta 0:00:01\r\u001b[K     |███████████████████████████████▊| 368 kB 5.2 MB/s eta 0:00:01\r\u001b[K     |████████████████████████████████| 371 kB 5.2 MB/s \n",
            "\u001b[?25h  Installing build dependencies ... \u001b[?25l\u001b[?25hdone\n",
            "  Getting requirements to build wheel ... \u001b[?25l\u001b[?25hdone\n",
            "    Preparing wheel metadata ... \u001b[?25l\u001b[?25hdone\n",
            "Requirement already satisfied: scipy in /usr/local/lib/python3.7/dist-packages (from shap) (1.4.1)\n",
            "Requirement already satisfied: packaging>20.9 in /usr/local/lib/python3.7/dist-packages (from shap) (21.3)\n",
            "Requirement already satisfied: numpy in /usr/local/lib/python3.7/dist-packages (from shap) (1.19.5)\n",
            "Requirement already satisfied: numba in /usr/local/lib/python3.7/dist-packages (from shap) (0.51.2)\n",
            "Requirement already satisfied: tqdm>4.25.0 in /usr/local/lib/python3.7/dist-packages (from shap) (4.62.3)\n",
            "Requirement already satisfied: scikit-learn in /usr/local/lib/python3.7/dist-packages (from shap) (1.0.1)\n",
            "Requirement already satisfied: pandas in /usr/local/lib/python3.7/dist-packages (from shap) (1.1.5)\n",
            "Collecting slicer==0.0.7\n",
            "  Downloading slicer-0.0.7-py3-none-any.whl (14 kB)\n",
            "Requirement already satisfied: cloudpickle in /usr/local/lib/python3.7/dist-packages (from shap) (1.3.0)\n",
            "Requirement already satisfied: pyparsing!=3.0.5,>=2.0.2 in /usr/local/lib/python3.7/dist-packages (from packaging>20.9->shap) (3.0.6)\n",
            "Requirement already satisfied: setuptools in /usr/local/lib/python3.7/dist-packages (from numba->shap) (57.4.0)\n",
            "Requirement already satisfied: llvmlite<0.35,>=0.34.0.dev0 in /usr/local/lib/python3.7/dist-packages (from numba->shap) (0.34.0)\n",
            "Requirement already satisfied: pytz>=2017.2 in /usr/local/lib/python3.7/dist-packages (from pandas->shap) (2018.9)\n",
            "Requirement already satisfied: python-dateutil>=2.7.3 in /usr/local/lib/python3.7/dist-packages (from pandas->shap) (2.8.2)\n",
            "Requirement already satisfied: six>=1.5 in /usr/local/lib/python3.7/dist-packages (from python-dateutil>=2.7.3->pandas->shap) (1.15.0)\n",
            "Requirement already satisfied: joblib>=0.11 in /usr/local/lib/python3.7/dist-packages (from scikit-learn->shap) (1.1.0)\n",
            "Requirement already satisfied: threadpoolctl>=2.0.0 in /usr/local/lib/python3.7/dist-packages (from scikit-learn->shap) (3.0.0)\n",
            "Building wheels for collected packages: shap\n",
            "  Building wheel for shap (PEP 517) ... \u001b[?25l\u001b[?25hdone\n",
            "  Created wheel for shap: filename=shap-0.40.0-cp37-cp37m-linux_x86_64.whl size=509254 sha256=2ff5f7c9ee5b192d09d2333a38092a30044e7b3ef7da247b665dfd8571b569bb\n",
            "  Stored in directory: /root/.cache/pip/wheels/ec/35/84/e304841ac4b910bc95fe9a6e5302eb2507b4333728851dcbfb\n",
            "Successfully built shap\n",
            "Installing collected packages: slicer, shap\n",
            "Successfully installed shap-0.40.0 slicer-0.0.7\n"
          ]
        }
      ]
    },
    {
      "cell_type": "code",
      "metadata": {
        "colab": {
          "base_uri": "https://localhost:8080/",
          "height": 606
        },
        "id": "pTOvNDCXHc2Y",
        "outputId": "70fd45c1-96f8-419f-fcf5-e6b1b7e9050e"
      },
      "source": [
        "import shap\n",
        "explainer = shap.DeepExplainer(model , X_test)\n",
        "shap_values = explainer.shap_values(pool)\n",
        "\n",
        "#max_display needed to show more than 20 features\n",
        "shap.summary_plot(shap_values, X_new_train, max_display = len(X_new_train.columns))\n"
      ],
      "execution_count": null,
      "outputs": [
        {
          "output_type": "error",
          "ename": "AttributeError",
          "evalue": "ignored",
          "traceback": [
            "\u001b[0;31m---------------------------------------------------------------------------\u001b[0m",
            "\u001b[0;31mAttributeError\u001b[0m                            Traceback (most recent call last)",
            "\u001b[0;32m<ipython-input-20-2110ad262f47>\u001b[0m in \u001b[0;36m<module>\u001b[0;34m()\u001b[0m\n\u001b[1;32m      1\u001b[0m \u001b[0;32mimport\u001b[0m \u001b[0mshap\u001b[0m\u001b[0;34m\u001b[0m\u001b[0;34m\u001b[0m\u001b[0m\n\u001b[0;32m----> 2\u001b[0;31m \u001b[0mexplainer\u001b[0m \u001b[0;34m=\u001b[0m \u001b[0mshap\u001b[0m\u001b[0;34m.\u001b[0m\u001b[0mDeepExplainer\u001b[0m\u001b[0;34m(\u001b[0m\u001b[0mmodel\u001b[0m\u001b[0;34m,\u001b[0m\u001b[0mX_test\u001b[0m\u001b[0;34m)\u001b[0m\u001b[0;34m\u001b[0m\u001b[0;34m\u001b[0m\u001b[0m\n\u001b[0m\u001b[1;32m      3\u001b[0m \u001b[0mshap_values\u001b[0m \u001b[0;34m=\u001b[0m \u001b[0mexplainer\u001b[0m\u001b[0;34m.\u001b[0m\u001b[0mshap_values\u001b[0m\u001b[0;34m(\u001b[0m\u001b[0mpool\u001b[0m\u001b[0;34m)\u001b[0m\u001b[0;34m\u001b[0m\u001b[0;34m\u001b[0m\u001b[0m\n\u001b[1;32m      4\u001b[0m \u001b[0;34m\u001b[0m\u001b[0m\n\u001b[1;32m      5\u001b[0m \u001b[0;31m#max_display needed to show more than 20 features\u001b[0m\u001b[0;34m\u001b[0m\u001b[0;34m\u001b[0m\u001b[0;34m\u001b[0m\u001b[0m\n",
            "\u001b[0;32m/usr/local/lib/python3.7/dist-packages/shap/explainers/_deep/__init__.py\u001b[0m in \u001b[0;36m__init__\u001b[0;34m(self, model, data, session, learning_phase_flags)\u001b[0m\n\u001b[1;32m     82\u001b[0m \u001b[0;34m\u001b[0m\u001b[0m\n\u001b[1;32m     83\u001b[0m         \u001b[0;32mif\u001b[0m \u001b[0mframework\u001b[0m \u001b[0;34m==\u001b[0m \u001b[0;34m'tensorflow'\u001b[0m\u001b[0;34m:\u001b[0m\u001b[0;34m\u001b[0m\u001b[0;34m\u001b[0m\u001b[0m\n\u001b[0;32m---> 84\u001b[0;31m             \u001b[0mself\u001b[0m\u001b[0;34m.\u001b[0m\u001b[0mexplainer\u001b[0m \u001b[0;34m=\u001b[0m \u001b[0mTFDeep\u001b[0m\u001b[0;34m(\u001b[0m\u001b[0mmodel\u001b[0m\u001b[0;34m,\u001b[0m \u001b[0mdata\u001b[0m\u001b[0;34m,\u001b[0m \u001b[0msession\u001b[0m\u001b[0;34m,\u001b[0m \u001b[0mlearning_phase_flags\u001b[0m\u001b[0;34m)\u001b[0m\u001b[0;34m\u001b[0m\u001b[0;34m\u001b[0m\u001b[0m\n\u001b[0m\u001b[1;32m     85\u001b[0m         \u001b[0;32melif\u001b[0m \u001b[0mframework\u001b[0m \u001b[0;34m==\u001b[0m \u001b[0;34m'pytorch'\u001b[0m\u001b[0;34m:\u001b[0m\u001b[0;34m\u001b[0m\u001b[0;34m\u001b[0m\u001b[0m\n\u001b[1;32m     86\u001b[0m             \u001b[0mself\u001b[0m\u001b[0;34m.\u001b[0m\u001b[0mexplainer\u001b[0m \u001b[0;34m=\u001b[0m \u001b[0mPyTorchDeep\u001b[0m\u001b[0;34m(\u001b[0m\u001b[0mmodel\u001b[0m\u001b[0;34m,\u001b[0m \u001b[0mdata\u001b[0m\u001b[0;34m)\u001b[0m\u001b[0;34m\u001b[0m\u001b[0;34m\u001b[0m\u001b[0m\n",
            "\u001b[0;32m/usr/local/lib/python3.7/dist-packages/shap/explainers/_deep/deep_tf.py\u001b[0m in \u001b[0;36m__init__\u001b[0;34m(self, model, data, session, learning_phase_flags)\u001b[0m\n\u001b[1;32m    156\u001b[0m                 \u001b[0;32mif\u001b[0m \u001b[0mtype\u001b[0m\u001b[0;34m(\u001b[0m\u001b[0mself\u001b[0m\u001b[0;34m.\u001b[0m\u001b[0mmodel\u001b[0m\u001b[0;34m)\u001b[0m\u001b[0;32mis\u001b[0m \u001b[0mtuple\u001b[0m\u001b[0;34m:\u001b[0m\u001b[0;34m\u001b[0m\u001b[0;34m\u001b[0m\u001b[0m\n\u001b[1;32m    157\u001b[0m                     \u001b[0msel\u001b[0m\u001b[0;34m.\u001b[0m\u001b[0mfModel\u001b[0m\u001b[0;34m(\u001b[0m\u001b[0mcnn\u001b[0m\u001b[0;34m.\u001b[0m\u001b[0minputs\u001b[0m\u001b[0;34m,\u001b[0m \u001b[0mcnn\u001b[0m\u001b[0;34m.\u001b[0m\u001b[0mget_layer\u001b[0m\u001b[0;34m(\u001b[0m\u001b[0mtheNameYouWant\u001b[0m\u001b[0;34m)\u001b[0m\u001b[0;34m.\u001b[0m\u001b[0moutputs\u001b[0m\u001b[0;34m)\u001b[0m\u001b[0;34m\u001b[0m\u001b[0;34m\u001b[0m\u001b[0m\n\u001b[0;32m--> 158\u001b[0;31m                 \u001b[0mself\u001b[0m\u001b[0;34m.\u001b[0m\u001b[0mexpected_value\u001b[0m \u001b[0;34m=\u001b[0m \u001b[0mtf\u001b[0m\u001b[0;34m.\u001b[0m\u001b[0mreduce_mean\u001b[0m\u001b[0;34m(\u001b[0m\u001b[0mself\u001b[0m\u001b[0;34m.\u001b[0m\u001b[0mmodel\u001b[0m\u001b[0;34m(\u001b[0m\u001b[0mself\u001b[0m\u001b[0;34m.\u001b[0m\u001b[0mdata\u001b[0m\u001b[0;34m)\u001b[0m\u001b[0;34m,\u001b[0m \u001b[0;36m0\u001b[0m\u001b[0;34m)\u001b[0m\u001b[0;34m\u001b[0m\u001b[0;34m\u001b[0m\u001b[0m\n\u001b[0m\u001b[1;32m    159\u001b[0m \u001b[0;34m\u001b[0m\u001b[0m\n\u001b[1;32m    160\u001b[0m         \u001b[0;32mif\u001b[0m \u001b[0;32mnot\u001b[0m \u001b[0mtf\u001b[0m\u001b[0;34m.\u001b[0m\u001b[0mexecuting_eagerly\u001b[0m\u001b[0;34m(\u001b[0m\u001b[0;34m)\u001b[0m\u001b[0;34m:\u001b[0m\u001b[0;34m\u001b[0m\u001b[0;34m\u001b[0m\u001b[0m\n",
            "\u001b[0;32m/usr/local/lib/python3.7/dist-packages/keras/utils/traceback_utils.py\u001b[0m in \u001b[0;36merror_handler\u001b[0;34m(*args, **kwargs)\u001b[0m\n\u001b[1;32m     65\u001b[0m     \u001b[0;32mexcept\u001b[0m \u001b[0mException\u001b[0m \u001b[0;32mas\u001b[0m \u001b[0me\u001b[0m\u001b[0;34m:\u001b[0m  \u001b[0;31m# pylint: disable=broad-except\u001b[0m\u001b[0;34m\u001b[0m\u001b[0;34m\u001b[0m\u001b[0m\n\u001b[1;32m     66\u001b[0m       \u001b[0mfiltered_tb\u001b[0m \u001b[0;34m=\u001b[0m \u001b[0m_process_traceback_frames\u001b[0m\u001b[0;34m(\u001b[0m\u001b[0me\u001b[0m\u001b[0;34m.\u001b[0m\u001b[0m__traceback__\u001b[0m\u001b[0;34m)\u001b[0m\u001b[0;34m\u001b[0m\u001b[0;34m\u001b[0m\u001b[0m\n\u001b[0;32m---> 67\u001b[0;31m       \u001b[0;32mraise\u001b[0m \u001b[0me\u001b[0m\u001b[0;34m.\u001b[0m\u001b[0mwith_traceback\u001b[0m\u001b[0;34m(\u001b[0m\u001b[0mfiltered_tb\u001b[0m\u001b[0;34m)\u001b[0m \u001b[0;32mfrom\u001b[0m \u001b[0;32mNone\u001b[0m\u001b[0;34m\u001b[0m\u001b[0;34m\u001b[0m\u001b[0m\n\u001b[0m\u001b[1;32m     68\u001b[0m     \u001b[0;32mfinally\u001b[0m\u001b[0;34m:\u001b[0m\u001b[0;34m\u001b[0m\u001b[0;34m\u001b[0m\u001b[0m\n\u001b[1;32m     69\u001b[0m       \u001b[0;32mdel\u001b[0m \u001b[0mfiltered_tb\u001b[0m\u001b[0;34m\u001b[0m\u001b[0;34m\u001b[0m\u001b[0m\n",
            "\u001b[0;32m/usr/local/lib/python3.7/dist-packages/keras/engine/input_spec.py\u001b[0m in \u001b[0;36massert_input_compatibility\u001b[0;34m(input_spec, inputs, layer_name)\u001b[0m\n\u001b[1;32m    223\u001b[0m                          f'found ndim={ndim}')\n\u001b[1;32m    224\u001b[0m     \u001b[0;32mif\u001b[0m \u001b[0mspec\u001b[0m\u001b[0;34m.\u001b[0m\u001b[0mmin_ndim\u001b[0m \u001b[0;32mis\u001b[0m \u001b[0;32mnot\u001b[0m \u001b[0;32mNone\u001b[0m\u001b[0;34m:\u001b[0m\u001b[0;34m\u001b[0m\u001b[0;34m\u001b[0m\u001b[0m\n\u001b[0;32m--> 225\u001b[0;31m       \u001b[0mndim\u001b[0m \u001b[0;34m=\u001b[0m \u001b[0mx\u001b[0m\u001b[0;34m.\u001b[0m\u001b[0mshape\u001b[0m\u001b[0;34m.\u001b[0m\u001b[0mrank\u001b[0m\u001b[0;34m\u001b[0m\u001b[0;34m\u001b[0m\u001b[0m\n\u001b[0m\u001b[1;32m    226\u001b[0m       \u001b[0;32mif\u001b[0m \u001b[0mndim\u001b[0m \u001b[0;32mis\u001b[0m \u001b[0;32mnot\u001b[0m \u001b[0;32mNone\u001b[0m \u001b[0;32mand\u001b[0m \u001b[0mndim\u001b[0m \u001b[0;34m<\u001b[0m \u001b[0mspec\u001b[0m\u001b[0;34m.\u001b[0m\u001b[0mmin_ndim\u001b[0m\u001b[0;34m:\u001b[0m\u001b[0;34m\u001b[0m\u001b[0;34m\u001b[0m\u001b[0m\n\u001b[1;32m    227\u001b[0m         raise ValueError(f'Input {input_index} of layer \"{layer_name}\" '\n",
            "\u001b[0;31mAttributeError\u001b[0m: Exception encountered when calling layer \"sequential\" (type Sequential).\n\n'tuple' object has no attribute 'rank'\n\nCall arguments received:\n  • inputs=['       LIMIT_BAL  SEX  EDUCATION  ...  PAY_AMT4  PAY_AMT5  PAY_AMT6\\n12111     180000    2          2  ...     10000      9000      9000\\n23662      70000    2          3  ...      2000      3500       800\\n11449      30000    1          2  ...         0      2500      1840\\n8710      260000    2          3  ...         0         0         0\\n11003      30000    1          2  ...         0         0         0\\n...          ...  ...        ...  ...       ...       ...       ...\\n12091     160000    1          1  ...         0      9596     10284\\n6761      230000    2          2  ...      1004         0      5183\\n28636     380000    2          2  ...      1900         0      3000\\n25035      10000    1          3  ...       199       193       197\\n23413     200000    2          2  ...         0         0         0\\n\\n[9900 rows x 23 columns]']\n  • training=None\n  • mask=None"
          ]
        }
      ]
    }
  ]
}